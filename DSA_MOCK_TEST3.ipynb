{
 "cells": [
  {
   "cell_type": "markdown",
   "id": "f1d001fb",
   "metadata": {},
   "source": [
    "**Q.1** Implement a stack using a list in Python. Include the necessary methods such as push, pop, and isEmpty."
   ]
  },
  {
   "cell_type": "code",
   "execution_count": 9,
   "id": "7ffd3742",
   "metadata": {},
   "outputs": [
    {
     "name": "stdout",
     "output_type": "stream",
     "text": [
      "17\n",
      "False\n",
      "10\n",
      "False\n",
      "1997\n",
      "True\n"
     ]
    }
   ],
   "source": [
    "# Ans.\n",
    "class Stack:\n",
    "    def __init__(self):\n",
    "        self.items = []\n",
    "\n",
    "    def push(self, item):\n",
    "        self.items.append(item)\n",
    "\n",
    "    def pop(self):\n",
    "        return self.items.pop()\n",
    "\n",
    "    def isEmpty(self):\n",
    "        return len(self.items) == 0\n",
    "\n",
    "def main():\n",
    "    stack = Stack()\n",
    "    stack.push(1997)\n",
    "    stack.push(10)\n",
    "    stack.push(17)\n",
    "    print(stack.pop())\n",
    "    print(stack.isEmpty()) \n",
    "    print(stack.pop())\n",
    "    print(stack.isEmpty()) \n",
    "    print(stack.pop())\n",
    "    print(stack.isEmpty()) \n",
    "\n",
    "if __name__ == \"__main__\":\n",
    "    main()\n"
   ]
  },
  {
   "cell_type": "markdown",
   "id": "cb3a50d7",
   "metadata": {},
   "source": [
    "**Q.2** Implement a queue using a list in Python. Include the necessary methods such as enqueue, dequeue, and isEmpty."
   ]
  },
  {
   "cell_type": "code",
   "execution_count": 11,
   "id": "4a00b9e7",
   "metadata": {},
   "outputs": [
    {
     "name": "stdout",
     "output_type": "stream",
     "text": [
      "17\n",
      "False\n",
      "10\n",
      "False\n",
      "1997\n",
      "True\n"
     ]
    }
   ],
   "source": [
    "# Ans.\n",
    "class Queue:\n",
    "    def __init__(self):\n",
    "        self.items = []\n",
    "\n",
    "    def enqueue(self, item):\n",
    "        self.items.append(item)\n",
    "\n",
    "    def dequeue(self):\n",
    "        return self.items.pop(0)\n",
    "\n",
    "    def isEmpty(self):\n",
    "        return len(self.items) == 0\n",
    "\n",
    "def main():\n",
    "    queue = Queue()\n",
    "    queue.enqueue(17)\n",
    "    queue.enqueue(10)\n",
    "    queue.enqueue(1997)\n",
    "    print(queue.dequeue())\n",
    "    print(queue.isEmpty())\n",
    "    print(queue.dequeue())\n",
    "    print(queue.isEmpty())\n",
    "    print(queue.dequeue())\n",
    "    print(queue.isEmpty())\n",
    "\n",
    "if __name__ == \"__main__\":\n",
    "    main()\n"
   ]
  },
  {
   "cell_type": "code",
   "execution_count": null,
   "id": "9b30f6cf",
   "metadata": {},
   "outputs": [],
   "source": []
  }
 ],
 "metadata": {
  "kernelspec": {
   "display_name": "Python 3 (ipykernel)",
   "language": "python",
   "name": "python3"
  },
  "language_info": {
   "codemirror_mode": {
    "name": "ipython",
    "version": 3
   },
   "file_extension": ".py",
   "mimetype": "text/x-python",
   "name": "python",
   "nbconvert_exporter": "python",
   "pygments_lexer": "ipython3",
   "version": "3.10.9"
  }
 },
 "nbformat": 4,
 "nbformat_minor": 5
}
